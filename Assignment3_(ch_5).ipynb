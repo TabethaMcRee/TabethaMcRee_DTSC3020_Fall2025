{
  "cells": [
    {
      "cell_type": "markdown",
      "metadata": {
        "id": "view-in-github",
        "colab_type": "text"
      },
      "source": [
        "<a href=\"https://colab.research.google.com/github/TabethaMcRee/TabethaMcRee_DTSC3020_Fall2025/blob/main/Assignment3_(ch_5).ipynb\" target=\"_parent\"><img src=\"https://colab.research.google.com/assets/colab-badge.svg\" alt=\"Open In Colab\"/></a>"
      ]
    },
    {
      "cell_type": "markdown",
      "metadata": {
        "id": "nevCG4Qs0b8R"
      },
      "source": [
        "# DTSC 3020 – Assignment 3\n",
        "\n",
        "This exercise focuses on **if statements and conditional logic** in Python and is designed to help students practice decision-making structures.\n",
        "\n",
        "**Total points:** 5  \n",
        "**Deadline:** Friday at midnight  \n",
        "**Submission:** Upload your Python file to your GitHub repository and submit **only your GitHub link**.\n",
        "\n",
        "### Expectations\n",
        "- Write complete answers and run all cells before submission.\n",
        "- Keep the notebook clean (no unnecessary code).\n",
        "\n"
      ],
      "id": "nevCG4Qs0b8R"
    },
    {
      "cell_type": "markdown",
      "metadata": {
        "id": "gfumj0DY0b8f"
      },
      "source": [
        "## Question 1 – Movie Ticket System\n",
        "Write a Python code that checks the price of a movie ticket.\n",
        "If the age is between 0 and 11 it is Child, if between 12 and 17 it is Teen, and if 18 or older it is Adult.\n",
        "Print the category and the ticket price (you choose the price).\n",
        "Run the program with age = 16."
      ],
      "id": "gfumj0DY0b8f"
    },
    {
      "cell_type": "code",
      "metadata": {
        "id": "67TGDT6w0b8k",
        "colab": {
          "base_uri": "https://localhost:8080/"
        },
        "outputId": "e9022154-d9cf-473a-bddb-263a07e7e330"
      },
      "execution_count": 2,
      "outputs": [
        {
          "output_type": "stream",
          "name": "stdout",
          "text": [
            "Category: Teen\n",
            "Ticket Price: $8\n"
          ]
        }
      ],
      "source": [
        "# write your answer here\n",
        "age = 16\n",
        "\n",
        "if age <= 11:\n",
        "  category = \"Child\"\n",
        "  price = 5\n",
        "elif 12 <= age <= 17:\n",
        "  category = \"Teen\"\n",
        "  price = 8\n",
        "else:\n",
        "  category = \"Adult\"\n",
        "  price = 10\n",
        "\n",
        "print(f\"Category: {category}\")\n",
        "print(f\"Ticket Price: ${price}\")"
      ],
      "id": "67TGDT6w0b8k"
    },
    {
      "cell_type": "markdown",
      "metadata": {
        "id": "_tUFNVKT0b8r"
      },
      "source": [
        "## Question 2 – Online Store Discount\n",
        "Write a Python code that applies a discount based on the shopping cart total.\n",
        "If the total is less than 50 dollars there is no discount, if the total is between 50 and 99 dollars there is a 10 percent discount, and if the total is 100 dollars or more there is a 20 percent discount.\n",
        "Print the original total, the discount, and the final price.\n",
        "Run the program with cart_total = 85."
      ],
      "id": "_tUFNVKT0b8r"
    },
    {
      "cell_type": "code",
      "metadata": {
        "id": "yTtX719o0b8v",
        "colab": {
          "base_uri": "https://localhost:8080/"
        },
        "outputId": "f7d429c5-1805-4ef6-ded1-d4d030060a02"
      },
      "execution_count": 7,
      "outputs": [
        {
          "output_type": "stream",
          "name": "stdout",
          "text": [
            "Original Total: $85\n",
            "Discount: $8.5\n",
            "Final Price: $76.5\n"
          ]
        }
      ],
      "source": [
        "# write your answer here\n",
        "cart_total = 85\n",
        "\n",
        "if cart_total < 50:\n",
        "  discount = 0\n",
        "elif 50 <= cart_total < 100:\n",
        "  discount = 0.1\n",
        "else:\n",
        "  discount = 0.2\n",
        "\n",
        "final_price = cart_total * (1 - discount)\n",
        "\n",
        "print(f\"Original Total: ${cart_total}\")\n",
        "print(f\"Discount: ${discount * cart_total}\")\n",
        "print(f\"Final Price: ${final_price}\")"
      ],
      "id": "yTtX719o0b8v"
    },
    {
      "cell_type": "markdown",
      "metadata": {
        "id": "uOUYYC870b8x"
      },
      "source": [
        "## Question 3 – Exam Grading\n",
        "Write a Python code that gives a letter grade for a score.\n",
        "If the score is between 90 and 100 the grade is A, if between 80 and 89 the grade is B, if between 70 and 79 the grade is C, if between 60 and 69 the grade is D, and if below 60 the grade is F.\n",
        "Print the grade and a short message.\n",
        "Run the program with score = 73."
      ],
      "id": "uOUYYC870b8x"
    },
    {
      "cell_type": "code",
      "metadata": {
        "id": "HDtf_YLG0b8y",
        "colab": {
          "base_uri": "https://localhost:8080/"
        },
        "outputId": "7e38b8be-0654-4955-ec85-198359f3bc5f"
      },
      "execution_count": 9,
      "outputs": [
        {
          "output_type": "stream",
          "name": "stdout",
          "text": [
            "Grade: C\n",
            "Message: nice try\n"
          ]
        }
      ],
      "source": [
        "# write your answer here\n",
        "score = 73\n",
        "\n",
        "if 90 <= score <= 100:\n",
        "  grade = \"A\"\n",
        "  message = \"Excellent!\"\n",
        "elif 80 <= score <= 89:\n",
        "  grade = \"B\"\n",
        "  message = \"Very Good!\"\n",
        "elif 70 <= score <= 79:\n",
        "  grade = \"C\"\n",
        "  message = \"nice try\"\n",
        "elif 60 <= score <= 69:\n",
        "  grade = \"D\"\n",
        "  message = \"you can do better\"\n",
        "else:\n",
        "  grade = \"F\"\n",
        "  message = \"you failed\"\n",
        "\n",
        "print(f\"Grade: {grade}\")\n",
        "print(f\"Message: {message}\")"
      ],
      "id": "HDtf_YLG0b8y"
    },
    {
      "cell_type": "markdown",
      "metadata": {
        "id": "ZCIKM6Xs0b80"
      },
      "source": [
        "## Question 4 – Parking Fee\n",
        "Write a Python code that calculates parking fees.\n",
        "If the car is parked for 0 to 2 hours the parking is free, if the car is parked for 3 to 5 hours the fee is 3 dollars per hour, and if the car is parked for more than 5 hours the fee is 3 dollars per hour for the first three hours after free and then 5 dollars per hour for the rest.\n",
        "Print the number of hours and the total fee.\n",
        "Run the program with hours = 6."
      ],
      "id": "ZCIKM6Xs0b80"
    },
    {
      "cell_type": "code",
      "metadata": {
        "id": "g3a_sPo50b81",
        "colab": {
          "base_uri": "https://localhost:8080/"
        },
        "outputId": "aad9dfa7-ca20-4b67-fbed-0a513e76b795"
      },
      "execution_count": 12,
      "outputs": [
        {
          "output_type": "stream",
          "name": "stdout",
          "text": [
            "Number of Hours: 6\n",
            "Total Fee: $11\n"
          ]
        }
      ],
      "source": [
        "# write your answer here\n",
        "hours = 6\n",
        "\n",
        "if hours <= 2:\n",
        "  fee = 0\n",
        "elif 3 <= hours <= 5:\n",
        "  fee = (hours - 2) * 3\n",
        "else:\n",
        "  fee = 6 + (hours - 5) * 5\n",
        "\n",
        "print(f\"Number of Hours: {hours}\")\n",
        "print(f\"Total Fee: ${fee}\")"
      ],
      "id": "g3a_sPo50b81"
    },
    {
      "cell_type": "markdown",
      "metadata": {
        "id": "XBf0-SPz0b83"
      },
      "source": [
        "## Question 5 – Cafeteria Menu\n",
        "Write a Python code that creates a list with three food items.\n",
        "Check if an order is in the list.\n",
        "If the item is in the list print a confirmation, and if the item is not in the list print a polite message.\n",
        "Run the program with menu = ['pizza','salad','sandwich'] and order = 'salad'."
      ],
      "id": "XBf0-SPz0b83"
    },
    {
      "cell_type": "code",
      "metadata": {
        "id": "y52UEMoX0b85",
        "colab": {
          "base_uri": "https://localhost:8080/"
        },
        "outputId": "761268c4-114b-4538-ae35-a9fbbcb1adef"
      },
      "execution_count": 13,
      "outputs": [
        {
          "output_type": "stream",
          "name": "stdout",
          "text": [
            "Your order, salad, is on the menu.\n"
          ]
        }
      ],
      "source": [
        "# write your answer here\n",
        "menu = ['pizza', 'salad', 'sandwich']\n",
        "order = 'salad'\n",
        "\n",
        "if order in menu:\n",
        "  print(f\"Your order, {order}, is on the menu.\")"
      ],
      "id": "y52UEMoX0b85"
    },
    {
      "cell_type": "markdown",
      "metadata": {
        "id": "-60rL71F0b86"
      },
      "source": [
        "## Question 6 – Job Application Filter\n",
        "Write a Python code that checks if a person is eligible for a job.\n",
        "If the person is older than 22 and has more than 2 years of experience print Accepted.\n",
        "Otherwise print Not Accepted.\n",
        "Run the program with age = 23 and experience = 1."
      ],
      "id": "-60rL71F0b86"
    },
    {
      "cell_type": "code",
      "metadata": {
        "id": "-h964CqY0b88",
        "colab": {
          "base_uri": "https://localhost:8080/"
        },
        "outputId": "a4e01b7e-57ab-4287-d3af-73f267cb7f26"
      },
      "execution_count": 14,
      "outputs": [
        {
          "output_type": "stream",
          "name": "stdout",
          "text": [
            "Not Accepted\n"
          ]
        }
      ],
      "source": [
        "# write your answer here\n",
        "age = 23\n",
        "experience = 1\n",
        "\n",
        "if age > 22 and experience > 2:\n",
        "  print(\"Accepted\")\n",
        "else:\n",
        "  print(\"Not Accepted\")"
      ],
      "id": "-h964CqY0b88"
    },
    {
      "cell_type": "markdown",
      "metadata": {
        "id": "MOMMxnuE0b8-"
      },
      "source": [
        "## Question 7 – Clothing Advice\n",
        "Write a Python code that suggests clothing based on the temperature.\n",
        "If the temperature is below 10 print Coat and gloves, if the temperature is between 10 and 19 print Jacket, and if the temperature is 20 or more print T-shirt.\n",
        "Run the program with temperature = 15."
      ],
      "id": "MOMMxnuE0b8-"
    },
    {
      "cell_type": "code",
      "metadata": {
        "id": "V6RtrCOa0b8_",
        "colab": {
          "base_uri": "https://localhost:8080/"
        },
        "outputId": "3b66f50c-952b-4419-8d74-fbf358a99d90"
      },
      "execution_count": 16,
      "outputs": [
        {
          "output_type": "stream",
          "name": "stdout",
          "text": [
            "Clothing Recommendation: Jacket\n"
          ]
        }
      ],
      "source": [
        "# write your answer here\n",
        "temperature = 15\n",
        "\n",
        "if temperature < 10:\n",
        "  clothing = \"Coat and Gloves\"\n",
        "elif 10 <= temperature < 20:\n",
        "  clothing = \"Jacket\"\n",
        "else:\n",
        "  clothing = \"T-shirt\"\n",
        "\n",
        "print(f\"Clothing Recommendation: {clothing}\")"
      ],
      "id": "V6RtrCOa0b8_"
    },
    {
      "cell_type": "markdown",
      "metadata": {
        "id": "R-i9Jzpn0b9A"
      },
      "source": [
        "## Question 8 – Loan Eligibility\n",
        "Write a Python code that checks loan eligibility.\n",
        "If the salary is at least 3000 and the credit score is at least 650 print Loan Approved, otherwise print Loan Denied.\n",
        "Run the program with salary = 3500 and credit_score = 640."
      ],
      "id": "R-i9Jzpn0b9A"
    },
    {
      "cell_type": "code",
      "metadata": {
        "id": "2M0s0bC40b9B",
        "colab": {
          "base_uri": "https://localhost:8080/"
        },
        "outputId": "8c5102a1-3e6d-492c-f5fa-7072c47b18d7"
      },
      "execution_count": 17,
      "outputs": [
        {
          "output_type": "stream",
          "name": "stdout",
          "text": [
            "Loan Denied\n"
          ]
        }
      ],
      "source": [
        "# write your answer here\n",
        "salary = 3500\n",
        "credit_score = 640\n",
        "\n",
        "if salary >= 3000 and credit_score >= 650:\n",
        "  print(\"Loan Approved\")\n",
        "else:\n",
        "  print(\"Loan Denied\")"
      ],
      "id": "2M0s0bC40b9B"
    },
    {
      "cell_type": "markdown",
      "metadata": {
        "id": "I0WmTyFv0b9D"
      },
      "source": [
        "## Question 9 – Password Strength\n",
        "Write a Python code that checks if a password is strong, medium, or weak based on its length.\n",
        "If the password has fewer than 6 characters it is Weak, if it has 6 to 10 characters it is Medium, and if it has more than 10 characters it is Strong.\n",
        "Print the strength.\n",
        "Run the program with password = 'hello123'."
      ],
      "id": "I0WmTyFv0b9D"
    },
    {
      "cell_type": "code",
      "metadata": {
        "id": "Jm8fu7ft0b9E",
        "colab": {
          "base_uri": "https://localhost:8080/"
        },
        "outputId": "93dda8a9-6765-4ecf-b6f6-cf6dbc6eb92c"
      },
      "execution_count": 19,
      "outputs": [
        {
          "output_type": "stream",
          "name": "stdout",
          "text": [
            "Password Strength: Medium\n"
          ]
        }
      ],
      "source": [
        "# write your answer here\n",
        "password = 'hello123'\n",
        "\n",
        "if len(password) < 6:\n",
        "  strength = \"Weak\"\n",
        "elif 6 <= len(password) <= 10:\n",
        "  strength = \"Medium\"\n",
        "else:\n",
        "  strength = \"Strong\"\n",
        "\n",
        "print(f\"Password Strength: {strength}\")"
      ],
      "id": "Jm8fu7ft0b9E"
    },
    {
      "cell_type": "markdown",
      "metadata": {
        "id": "kgKSm4WB0b9F"
      },
      "source": [
        "## Question 10 – Guest List Checker\n",
        "Write a Python code that creates a list with three invited guests.\n",
        "Define a variable for a guest name.\n",
        "Check if the guest name is in the list.\n",
        "If the guest is in the list print Welcome, and if the guest is not in the list print Not on the list.\n",
        "Run the program with guest = 'Sara'."
      ],
      "id": "kgKSm4WB0b9F"
    },
    {
      "cell_type": "code",
      "metadata": {
        "id": "4pyiTbMT0b9G",
        "colab": {
          "base_uri": "https://localhost:8080/"
        },
        "outputId": "f284762d-590e-4716-ce9e-53e5b6248b0e"
      },
      "execution_count": 20,
      "outputs": [
        {
          "output_type": "stream",
          "name": "stdout",
          "text": [
            "Not on the list\n"
          ]
        }
      ],
      "source": [
        "# write your answer here\n",
        "guest = 'Sara'\n",
        "invited_guests = ['Alice', 'Bob', 'Charlie']\n",
        "\n",
        "if guest in invited_guests:\n",
        "  print(\"Welcome\")\n",
        "else:\n",
        "  print(\"Not on the list\")"
      ],
      "id": "4pyiTbMT0b9G"
    }
  ],
  "metadata": {
    "kernelspec": {
      "display_name": "Python 3",
      "language": "python",
      "name": "python3"
    },
    "language_info": {
      "name": "python",
      "version": "3.x"
    },
    "colab": {
      "provenance": [],
      "include_colab_link": true
    }
  },
  "nbformat": 4,
  "nbformat_minor": 5
}