{
  "nbformat": 4,
  "nbformat_minor": 0,
  "metadata": {
    "colab": {
      "provenance": [],
      "authorship_tag": "ABX9TyPYb/lZyWGIxqLK4ZNE5avx",
      "include_colab_link": true
    },
    "kernelspec": {
      "name": "python3",
      "display_name": "Python 3"
    },
    "language_info": {
      "name": "python"
    }
  },
  "cells": [
    {
      "cell_type": "markdown",
      "metadata": {
        "id": "view-in-github",
        "colab_type": "text"
      },
      "source": [
        "<a href=\"https://colab.research.google.com/github/TabethaMcRee/TabethaMcRee_DTSC3020_Fall2025/blob/main/n_class_exercise_02.ipynb\" target=\"_parent\"><img src=\"https://colab.research.google.com/assets/colab-badge.svg\" alt=\"Open In Colab\"/></a>"
      ]
    },
    {
      "cell_type": "code",
      "execution_count": null,
      "metadata": {
        "id": "344vrz417Hnl",
        "colab": {
          "base_uri": "https://localhost:8080/"
        },
        "outputId": "75b02845-7b65-468c-c6b8-dc3180ac94aa"
      },
      "outputs": [
        {
          "output_type": "stream",
          "name": "stdout",
          "text": [
            "['apple', 'banana', 'orange']\n",
            "apple\n",
            "banana\n",
            "orange\n"
          ]
        }
      ],
      "source": [
        "fruits = [\"apple\" , \"banana\" , \"orange\"]\n",
        "print(fruits)\n",
        "for fruit in fruits:\n",
        "    print(fruit)"
      ]
    },
    {
      "cell_type": "code",
      "source": [
        "names = [\"Amanda\" , \"Cecil\" , \"Bob\" , \"Sara\"]\n",
        "print(names)\n"
      ],
      "metadata": {
        "colab": {
          "base_uri": "https://localhost:8080/"
        },
        "collapsed": true,
        "id": "DOtrHZcVaZkd",
        "outputId": "c5c46d5b-7844-431e-8468-986eb510ae1a"
      },
      "execution_count": null,
      "outputs": [
        {
          "output_type": "stream",
          "name": "stdout",
          "text": [
            "['Amanda', 'Cecil', 'Bob', 'Sara']\n"
          ]
        }
      ]
    },
    {
      "cell_type": "code",
      "source": [
        "names[0] = \"Alex\"\n",
        "print(names)"
      ],
      "metadata": {
        "colab": {
          "base_uri": "https://localhost:8080/"
        },
        "id": "wkkXsav3fI5z",
        "outputId": "de754b18-944b-4578-aefe-8a9fc7e1c61b"
      },
      "execution_count": null,
      "outputs": [
        {
          "output_type": "stream",
          "name": "stdout",
          "text": [
            "['Alex', 'Cecil', 'Bob', 'Sara']\n"
          ]
        }
      ]
    },
    {
      "cell_type": "code",
      "source": [
        "vehicles = [\"car\" , \"truck\" , \"motorcycle\" , \"bicycle\"]\n",
        "print(vehicles)"
      ],
      "metadata": {
        "colab": {
          "base_uri": "https://localhost:8080/"
        },
        "id": "DD85hiQof2dd",
        "outputId": "b26f4ac1-d26f-4f7f-f6be-2d594ff7f70b"
      },
      "execution_count": null,
      "outputs": [
        {
          "output_type": "stream",
          "name": "stdout",
          "text": [
            "['car', 'truck', 'motorcycle', 'bicycle']\n"
          ]
        }
      ]
    },
    {
      "cell_type": "code",
      "source": [
        "vehicles.append(\"boat\")\n",
        "print(vehicles)"
      ],
      "metadata": {
        "colab": {
          "base_uri": "https://localhost:8080/"
        },
        "id": "9p_apZPaf-Ix",
        "outputId": "344188cf-2184-46e5-f758-bc49aeabc986"
      },
      "execution_count": null,
      "outputs": [
        {
          "output_type": "stream",
          "name": "stdout",
          "text": [
            "['car', 'truck', 'motorcycle', 'bicycle', 'boat']\n"
          ]
        }
      ]
    },
    {
      "cell_type": "code",
      "source": [
        "foods = [\"pizza\" , \"sushi\" , \"tacos\" , \"burgers\" , \"fried chicken\" , \"rice\"]\n",
        "print(foods)"
      ],
      "metadata": {
        "colab": {
          "base_uri": "https://localhost:8080/"
        },
        "id": "OdKbEiirgK4X",
        "outputId": "b231bff1-d678-43cf-b285-679e3e7e1a8b"
      },
      "execution_count": null,
      "outputs": [
        {
          "output_type": "stream",
          "name": "stdout",
          "text": [
            "['pizza', 'sushi', 'tacos', 'burgers', 'fried chicken', 'rice']\n"
          ]
        }
      ]
    },
    {
      "cell_type": "code",
      "source": [
        "foods.remove(\"rice\")\n",
        "print(foods)"
      ],
      "metadata": {
        "colab": {
          "base_uri": "https://localhost:8080/"
        },
        "id": "3hRAhyDnhAi_",
        "outputId": "310f5411-fa2c-48a4-d5bf-ac8d7d76846f"
      },
      "execution_count": null,
      "outputs": [
        {
          "output_type": "stream",
          "name": "stdout",
          "text": [
            "['pizza', 'sushi', 'tacos', 'burgers', 'fried chicken']\n"
          ]
        }
      ]
    },
    {
      "cell_type": "code",
      "source": [
        "cities = [\"Dallas\" , \"Plano\" , \"Fort Worth\" , \"Denton\"]\n",
        "print(cities)"
      ],
      "metadata": {
        "colab": {
          "base_uri": "https://localhost:8080/"
        },
        "id": "qxPnaGmQhj7z",
        "outputId": "3c6bd5af-47eb-42be-fbf6-083a18d1efd9"
      },
      "execution_count": null,
      "outputs": [
        {
          "output_type": "stream",
          "name": "stdout",
          "text": [
            "['Dallas', 'Plano', 'Fort Worth', 'Denton']\n"
          ]
        }
      ]
    },
    {
      "cell_type": "code",
      "source": [
        "cities.reverse()\n",
        "print(cities)"
      ],
      "metadata": {
        "colab": {
          "base_uri": "https://localhost:8080/"
        },
        "id": "WOkLLb2shx8Y",
        "outputId": "b939b7f4-cfc7-495b-f0e5-e6ff1a07289c"
      },
      "execution_count": null,
      "outputs": [
        {
          "output_type": "stream",
          "name": "stdout",
          "text": [
            "['Denton', 'Fort Worth', 'Plano', 'Dallas']\n"
          ]
        }
      ]
    },
    {
      "cell_type": "code",
      "source": [
        "animals = [\"dog\", \"cat\", \"bird\"]\n",
        "print(animals)"
      ],
      "metadata": {
        "colab": {
          "base_uri": "https://localhost:8080/"
        },
        "id": "3Y21qOHniD00",
        "outputId": "9dd22006-95d8-49af-d87f-147fefb47040"
      },
      "execution_count": null,
      "outputs": [
        {
          "output_type": "stream",
          "name": "stdout",
          "text": [
            "['dog', 'cat', 'bird']\n"
          ]
        }
      ]
    },
    {
      "cell_type": "code",
      "source": [
        "for animal in animals:\n",
        "    print(animal)"
      ],
      "metadata": {
        "colab": {
          "base_uri": "https://localhost:8080/"
        },
        "id": "Z5TfldJ1iU2A",
        "outputId": "c6fdaac2-2192-4cc0-bcb6-4ec273791f1e"
      },
      "execution_count": null,
      "outputs": [
        {
          "output_type": "stream",
          "name": "stdout",
          "text": [
            "dog\n",
            "cat\n",
            "bird\n"
          ]
        }
      ]
    },
    {
      "cell_type": "code",
      "source": [
        "numbers = [1, 2, 3, 4, 5]\n",
        "print(numbers)"
      ],
      "metadata": {
        "colab": {
          "base_uri": "https://localhost:8080/"
        },
        "id": "nQR0JeyIjKZl",
        "outputId": "b02061cb-0a70-4d0a-fbb7-b3a25bb994dd"
      },
      "execution_count": null,
      "outputs": [
        {
          "output_type": "stream",
          "name": "stdout",
          "text": [
            "[1, 2, 3, 4, 5]\n"
          ]
        }
      ]
    },
    {
      "cell_type": "code",
      "source": [
        "for number in numbers:\n",
        "    print(number*2)"
      ],
      "metadata": {
        "colab": {
          "base_uri": "https://localhost:8080/"
        },
        "id": "yK_q0Di-jNoO",
        "outputId": "029f4ea4-9cb8-4768-8b1e-bcf1c8190c2c"
      },
      "execution_count": null,
      "outputs": [
        {
          "output_type": "stream",
          "name": "stdout",
          "text": [
            "2\n",
            "4\n",
            "6\n",
            "8\n",
            "10\n"
          ]
        }
      ]
    },
    {
      "cell_type": "code",
      "source": [
        "Friends = [\"Joey\", \"Chandler\", \"Ross\", \"Monica\", \"Rachel\", \"Pheobe\"]\n",
        "print(Friends)\n",
        "print(Friends[0:3])\n",
        "print(Friends[3:6])"
      ],
      "metadata": {
        "colab": {
          "base_uri": "https://localhost:8080/"
        },
        "id": "Hd-0FcH4jahg",
        "outputId": "30598671-1d65-478a-fe1f-5d81cae0283c"
      },
      "execution_count": null,
      "outputs": [
        {
          "output_type": "stream",
          "name": "stdout",
          "text": [
            "['Joey', 'Chandler', 'Ross', 'Monica', 'Rachel', 'Pheobe']\n",
            "['Joey', 'Chandler', 'Ross']\n",
            "['Monica', 'Rachel', 'Pheobe']\n"
          ]
        }
      ]
    },
    {
      "cell_type": "code",
      "source": [
        "numbers = list(range(1, 11))\n",
        "print(numbers)"
      ],
      "metadata": {
        "colab": {
          "base_uri": "https://localhost:8080/"
        },
        "id": "_kT2kyOPjsom",
        "outputId": "412b27c2-2091-4c0b-dc88-5fa23f9429b1"
      },
      "execution_count": null,
      "outputs": [
        {
          "output_type": "stream",
          "name": "stdout",
          "text": [
            "[1, 2, 3, 4, 5, 6, 7, 8, 9, 10]\n"
          ]
        }
      ]
    },
    {
      "cell_type": "code",
      "source": [
        "squares = [value**2 for value in range(1, 5)]\n",
        "print(squares)"
      ],
      "metadata": {
        "colab": {
          "base_uri": "https://localhost:8080/"
        },
        "id": "XYEEClXwkvxP",
        "outputId": "878e1042-ea68-4ef4-cf6f-aa98ba7dc15d"
      },
      "execution_count": null,
      "outputs": [
        {
          "output_type": "stream",
          "name": "stdout",
          "text": [
            "[1, 4, 9, 16]\n"
          ]
        }
      ]
    }
  ]
}